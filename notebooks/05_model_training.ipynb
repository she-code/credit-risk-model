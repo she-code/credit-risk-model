{
 "cells": [
  {
   "cell_type": "markdown",
   "id": "84900eb9",
   "metadata": {},
   "source": [
    "1. Imports and Setup"
   ]
  },
  {
   "cell_type": "code",
   "execution_count": 3,
   "id": "a74147fa",
   "metadata": {},
   "outputs": [],
   "source": [
    "\n",
    "import mlflow\n",
    "import mlflow.sklearn\n",
    "from sklearn.model_selection import train_test_split, GridSearchCV, RandomizedSearchCV\n",
    "from sklearn.linear_model import LogisticRegression\n",
    "from sklearn.ensemble import RandomForestClassifier, GradientBoostingClassifier\n",
    "from sklearn.metrics import accuracy_score, precision_score, recall_score, f1_score, roc_auc_score\n",
    "from sklearn.preprocessing import StandardScaler\n",
    "import pandas as pd\n",
    "import numpy as np\n",
    "import warnings\n",
    "warnings.filterwarnings(\"ignore\")\n",
    "import sys\n",
    "\n",
    "sys.path.append(\"../src\")\n",
    "np.random.seed(42)\n"
   ]
  },
  {
   "cell_type": "markdown",
   "id": "24a8ce61",
   "metadata": {},
   "source": [
    " 2. Load and Prepare Data"
   ]
  },
  {
   "cell_type": "code",
   "execution_count": 5,
   "id": "56a68661",
   "metadata": {},
   "outputs": [],
   "source": [
    "from train_model import load_and_prepare_data"
   ]
  },
  {
   "cell_type": "code",
   "execution_count": 6,
   "id": "2b2b7ca8",
   "metadata": {},
   "outputs": [],
   "source": [
    "X_train_scaled, X_test_scaled, y_train, y_test, scaler = load_and_prepare_data()"
   ]
  },
  {
   "cell_type": "markdown",
   "id": "1ec697fe",
   "metadata": {},
   "source": [
    " 3. Train & Evaluate Function"
   ]
  },
  {
   "cell_type": "code",
   "execution_count": 7,
   "id": "6aebc88d",
   "metadata": {},
   "outputs": [],
   "source": [
    "from train_model import train_and_evaluate_model"
   ]
  },
  {
   "cell_type": "markdown",
   "id": "c085ccbc",
   "metadata": {},
   "source": [
    "4. Define Models and Run Experiments"
   ]
  },
  {
   "cell_type": "code",
   "execution_count": 8,
   "id": "d46fc428",
   "metadata": {},
   "outputs": [
    {
     "name": "stderr",
     "output_type": "stream",
     "text": [
      "2025/07/01 11:29:33 INFO mlflow.tracking.fluent: Experiment with name 'Credit_Risk_Modeling' does not exist. Creating a new experiment.\n",
      "2025/07/01 11:46:18 WARNING mlflow.models.model: `artifact_path` is deprecated. Please use `name` instead.\n",
      "2025/07/01 11:46:23 WARNING mlflow.models.model: Model logged without a signature and input example. Please set `input_example` parameter when logging the model to auto infer the model signature.\n"
     ]
    },
    {
     "name": "stdout",
     "output_type": "stream",
     "text": [
      "\n",
      "LogisticRegression Performance:\n",
      "accuracy: 0.9915\n",
      "precision: 0.8371\n",
      "recall: 0.7098\n",
      "f1: 0.7682\n",
      "roc_auc: 0.9927\n"
     ]
    },
    {
     "name": "stderr",
     "output_type": "stream",
     "text": [
      "2025/07/01 11:48:30 WARNING mlflow.models.model: `artifact_path` is deprecated. Please use `name` instead.\n",
      "2025/07/01 11:48:34 WARNING mlflow.models.model: Model logged without a signature and input example. Please set `input_example` parameter when logging the model to auto infer the model signature.\n"
     ]
    },
    {
     "name": "stdout",
     "output_type": "stream",
     "text": [
      "\n",
      "RandomForest Performance:\n",
      "accuracy: 0.9997\n",
      "precision: 0.9895\n",
      "recall: 0.9930\n",
      "f1: 0.9913\n",
      "roc_auc: 1.0000\n"
     ]
    },
    {
     "name": "stderr",
     "output_type": "stream",
     "text": [
      "2025/07/01 11:50:23 WARNING mlflow.models.model: `artifact_path` is deprecated. Please use `name` instead.\n",
      "2025/07/01 11:50:27 WARNING mlflow.models.model: Model logged without a signature and input example. Please set `input_example` parameter when logging the model to auto infer the model signature.\n",
      "2025/07/01 11:50:27 WARNING mlflow.models.model: `artifact_path` is deprecated. Please use `name` instead.\n"
     ]
    },
    {
     "name": "stdout",
     "output_type": "stream",
     "text": [
      "\n",
      "GradientBoosting Performance:\n",
      "accuracy: 0.9999\n",
      "precision: 0.9965\n",
      "recall: 0.9983\n",
      "f1: 0.9974\n",
      "roc_auc: 1.0000\n"
     ]
    },
    {
     "name": "stderr",
     "output_type": "stream",
     "text": [
      "2025/07/01 11:50:31 WARNING mlflow.models.model: Model logged without a signature and input example. Please set `input_example` parameter when logging the model to auto infer the model signature.\n",
      "Successfully registered model 'CreditRiskModel'.\n",
      "2025/07/01 11:50:31 WARNING mlflow.tracking._model_registry.fluent: Run with id 64c21f374efd406e84b253abc8b2eca5 has no artifacts at artifact path 'best_model', registering model based on models:/m-6a5696c552bb4bfd9d62e569220e8799 instead\n"
     ]
    },
    {
     "name": "stdout",
     "output_type": "stream",
     "text": [
      "\n",
      "✅ Best Model: GradientBoosting | ROC AUC: 1.0000\n"
     ]
    },
    {
     "name": "stderr",
     "output_type": "stream",
     "text": [
      "Created version '1' of model 'CreditRiskModel'.\n"
     ]
    }
   ],
   "source": [
    "\n",
    "mlflow.set_tracking_uri(\"file:./mlruns\")\n",
    "mlflow.set_experiment(\"Credit_Risk_Modeling\")\n",
    "\n",
    "models = {\n",
    "    'LogisticRegression': {\n",
    "        'model': LogisticRegression(random_state=42, max_iter=1000),\n",
    "        'params': {\n",
    "            'C': [0.001, 0.01, 0.1, 1, 10],\n",
    "            'penalty': ['l1', 'l2'],\n",
    "            'solver': ['liblinear']\n",
    "        }\n",
    "    },\n",
    "    'RandomForest': {\n",
    "        'model': RandomForestClassifier(random_state=42),\n",
    "        'params': {\n",
    "            'n_estimators': [50, 100, 200],\n",
    "            'max_depth': [None, 10, 20],\n",
    "            'min_samples_split': [2, 5, 10]\n",
    "        }\n",
    "    },\n",
    "    'GradientBoosting': {\n",
    "        'model': GradientBoostingClassifier(random_state=42),\n",
    "        'params': {\n",
    "            'n_estimators': [50, 100],\n",
    "            'learning_rate': [0.01, 0.1],\n",
    "            'max_depth': [3, 5]\n",
    "        }\n",
    "    }\n",
    "}\n",
    "\n",
    "best_model, best_metrics, best_model_name = None, {}, ''\n",
    "\n",
    "with mlflow.start_run(run_name=\"Parent_Run\"):\n",
    "    mlflow.log_param(\"n_features\", X_train_scaled.shape[1])\n",
    "    mlflow.log_param(\"scaler\", \"StandardScaler\")\n",
    "\n",
    "    for model_name, cfg in models.items():\n",
    "        model, metrics = train_and_evaluate_model(\n",
    "            cfg['model'], model_name,\n",
    "            X_train_scaled, y_train,\n",
    "            X_test_scaled, y_test,\n",
    "            cfg['params']\n",
    "        )\n",
    "        if not best_model or metrics['roc_auc'] > best_metrics.get('roc_auc', 0):\n",
    "            best_model = model\n",
    "            best_metrics = metrics\n",
    "            best_model_name = model_name\n",
    "\n",
    "    # Register best model\n",
    "    mlflow.sklearn.log_model(best_model, \"best_model\")\n",
    "    model_uri = f\"runs:/{mlflow.active_run().info.run_id}/best_model\"\n",
    "    mlflow.register_model(model_uri, \"CreditRiskModel\")\n",
    "    mlflow.log_param(\"best_model\", best_model_name)\n",
    "    mlflow.log_metrics({f\"best_{k}\": v for k, v in best_metrics.items()})\n",
    "\n",
    "    print(f\"\\n✅ Best Model: {best_model_name} | ROC AUC: {best_metrics['roc_auc']:.4f}\")\n"
   ]
  }
 ],
 "metadata": {
  "kernelspec": {
   "display_name": "venv",
   "language": "python",
   "name": "python3"
  },
  "language_info": {
   "codemirror_mode": {
    "name": "ipython",
    "version": 3
   },
   "file_extension": ".py",
   "mimetype": "text/x-python",
   "name": "python",
   "nbconvert_exporter": "python",
   "pygments_lexer": "ipython3",
   "version": "3.13.3"
  }
 },
 "nbformat": 4,
 "nbformat_minor": 5
}
